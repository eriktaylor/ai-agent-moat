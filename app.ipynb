{
 "cells": [
  {
   "cell_type": "markdown",
   "metadata": {},
   "source": [
    "# AI Agent for Market Research & Competitive Analysis\n",
    "\n",
    "This application serves as an interactive demo for a sophisticated AI research agent. Simply enter a company name and stock ticker to generate a multi-faceted analysis from two distinct investor perspectives."
   ]
  },
  {
   "cell_type": "markdown",
   "metadata": {},
   "source": [
    "## Step 1: Install Dependencies & Setup Environment\n",
    "\n",
    "This cell installs the required libraries, clones the project repository from GitHub to make the custom modules available, and sets up the necessary API keys for the agent to function."
   ]
  },
  {
   "cell_type": "code",
   "execution_count": null,
   "metadata": {},
   "outputs": [],
   "source": [
    "import importlib\n",
    "import os\n",
    "import sys\n",
    "from google.colab import userdata\n",
    "\n",
    "# Install dependencies from requirements.txt\n",
    "if not importlib.util.find_spec(\"langchain\"):\n",
    "  print(\"Installing dependencies...\")\n",
    "  !pip install -q -r https://raw.githubusercontent.com/eriktaylor/ai-agent-moat/main/requirements.txt\n",
    "else:\n",
    "  print(\"Dependencies are already installed.\")\n",
    "\n",
    "# <<< CHANGE: Clone the repository and add it to the Python path >>>\n",
    "repo_path = 'ai-agent-moat'\n",
    "if not os.path.exists(repo_path):\n",
    "    print(f\"Cloning repository...\")\n",
    "    !git clone https://github.com/eriktaylor/ai-agent-moat.git\n",
    "else:\n",
    "    print(\"Repository already cloned.\")\n",
    "\n",
    "if repo_path not in sys.path:\n",
    "    sys.path.append(repo_path)\n",
    "    print(f\"Added {repo_path} to system path.\")\n",
    "\n",
    "# Securely set up API keys for the agent's tools to use\n",
    "os.environ['GOOGLE_API_KEY'] = userdata.get('GOOGLE_API_KEY')\n",
    "os.environ['GOOGLE_CSE_ID'] = userdata.get('GOOGLE_CSE_ID')"
   ]
  },
  {
   "cell_type": "markdown",
   "metadata": {},
   "source": [
    "## Step 2: Import and Initialize the Agent\n",
    "\n",
    "Now we import our custom-built agent and tools. The heavy lifting and complex logic are handled in the background by our `research_agent.py` and `tools.py` files."
   ]
  },
  {
   "cell_type": "code",
   "execution_count": null,
   "metadata": {},
   "outputs": [],
   "source": [
    "# <<< CHANGE: Import the class, then initialize the models and agent here >>>\n",
    "from langchain_google_genai import ChatGoogleGenerativeAI\n",
    "from langchain_huggingface import HuggingFaceEmbeddings\n",
    "from research_agent import ResearchAgent\n",
    "from tools import get_stock_info\n",
    "\n",
    "# Initialize models\n",
    "llm = ChatGoogleGenerativeAI(model=\"gemini-2.5-flash\", temperature=0.2)\n",
    "embeddings = HuggingFaceEmbeddings(model_name=\"all-MiniLM-L6-v2\")\n",
    "\n",
    "# Instantiate the agent\n",
    "research_agent = ResearchAgent(llm=llm, embeddings_model=embeddings)\n",
    "\n",
    "print(\"AI Research Agent is initialized and ready.\")"
   ]
  },
  {
   "cell_type": "markdown",
   "metadata": {},
   "source": [
    "## Step 3: Run Your Analysis\n",
    "\n",
    "Enter a company name and its corresponding stock ticker below to begin the analysis."
   ]
  },
  {
   "cell_type": "code",
   "execution_count": null,
   "metadata": {},
   "outputs": [],
   "source": [
    "from IPython.display import display, HTML, clear_output\n",
    "\n",
    "company_name = input(\"Enter the company name (e.g., NVIDIA): \")\n",
    "stock_ticker = input(\"Enter the stock ticker (e.g., NVDA): \")\n",
    "\n",
    "clear_output(wait=True) # Clears the input prompts for a cleaner display\n",
    "\n",
    "# To get fresh data and not use the cache, you can uncomment the next line:\n",
    "# research_agent.clear_cache()\n",
    "\n",
    "# --- 1. KEY FINANCIAL DATA ---\n",
    "print(f\"--- 1. KEY FINANCIAL DATA for {stock_ticker.upper()} ---\")\n",
    "financial_data_raw = get_stock_info.run(stock_ticker) if stock_ticker else \"No ticker provided.\"\n",
    "display(HTML(f\"<div style='border: 1px solid #444; border-radius: 8px; padding: 20px; white-space: pre-wrap; font-family: monospace; line-height: 1.6; background-color: #2c2c2e; color: #f0f0f0;'>{financial_data_raw}</div>\"))\n",
    "\n",
    "# --- 2. AI-GENERATED MARKET INVESTOR OUTLOOK ---\n",
    "print(f\"\\n--- 2. AI-GENERATED MARKET INVESTOR OUTLOOK for {company_name} ---\")\n",
    "market_outlook = research_agent.generate_market_outlook(company_name, stock_ticker)\n",
    "display(HTML(f\"<div style='border: 1px solid #444; border-radius: 8px; padding: 20px; max-height: 500px; overflow-y: auto; white-space: pre-wrap; font-family: \\\"SF Pro Text\\\", \\\"Inter\\\", sans-serif; line-height: 1.6; background-color: #2c2c2e; color: #f0f0f0;'>{market_outlook}</div>\"))\n",
    "\n",
    "# --- 3. AI-GENERATED VALUE INVESTOR ANALYSIS ---\n",
    "print(f\"\\n--- 3. AI-GENERATED VALUE INVESTOR ANALYSIS for {company_name} ---\")\n",
    "value_analysis = research_agent.generate_value_analysis(company_name, stock_ticker)\n",
    "display(HTML(f\"<div style='border: 1px solid #444; border-radius: 8px; padding: 20px; max-height: 500px; overflow-y: auto; white-space: pre-wrap; font-family: \\\"SF Pro Text\\\", \\\"Inter\\\", sans-serif; line-height: 1.6; background-color: #2c2c2e; color: #f0f0f0;'>{value_analysis}</div>\"))"
   ]
  }
 ],
 "metadata": {
  "kernelspec": {
   "display_name": "Python 3",
   "language": "python",
   "name": "python3"
  },
  "language_info": {
   "name": "python",
   "version": "3.10"
  }
 },
 "nbformat": 4,
 "nbformat_minor": 2
}
