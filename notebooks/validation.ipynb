# notebooks/validation.ipynb

# --- Step 1: Setup Environment ---
# This cell clones the repository and installs dependencies in a Colab environment.
# If running locally, you can skip this and just ensure your packages are installed.

import os
import sys

# Clone the repository (if not already present)
if not os.path.exists('../.git'):
    !git clone <YOUR_REPOSITORY_URL> repo
    os.chdir('repo')

# Install dependencies
!pip install -q -r requirements.txt

# Add the project's root to the Python path to allow for imports
# This is necessary to find the 'stock_analyzer' package
sys.path.insert(0, os.path.abspath('..'))


# --- Step 2: Data Health Check ---
# Here, we'll import the DataManager, load the data, and run health checks.

import pandas as pd
from stock_analyzer.data_manager import DataManager

def validate_price_data(df):
    """Performs a health check on the historical price DataFrame."""
    print("--- 📊 Health Check: Historical Price Data ---")
    if df is None or df.empty:
        print("❌ Price data DataFrame is empty.")
        return
    print(f"Total unique tickers: {df['Ticker'].nunique()}")
    print(f"Date range: {df.index.min():%Y-%m-%d} to {df.index.max():%Y-%m-%d}")
    print("\nMissing values (%):")
    print((df.isnull().sum() / len(df) * 100).round(2))

def validate_fundamental_data(df):
    """Performs a health check on the fundamental data DataFrame."""
    print("\n--- 🔬 Health Check: Fundamental Data ---")
    if df is None or df.empty:
        print("❌ Fundamental data DataFrame is empty.")
        return
    print(f"Data found for {len(df)} tickers.")
    print("\nTickers MISSING each metric (%):")
    print((df.isnull().sum() / len(df) * 100).round(2))

# Load the data
print("--- Loading Data ---")
data_manager = DataManager()
price_df, fundamentals_df, spy_df = data_manager.get_all_data()

# Run the validation functions
if price_df is not None:
    validate_price_data(price_df)
if fundamentals_df is not None:
    validate_fundamental_data(fundamentals_df)


# --- Step 3: Candidate Generation Check ---
# This cell runs just the candidate generation part of the pipeline
# and displays the top candidates for review.

from stock_analyzer.candidate_generator import CandidateGenerator

print("\n--- Generating Candidates for Review ---")
candidate_generator = CandidateGenerator()
top_candidates_df = candidate_generator.generate_candidates(
    price_df,
    fundamentals_df,
    spy_df
)

print("\n🏆 Top Quantitative Candidates:")
display(top_candidates_df)

